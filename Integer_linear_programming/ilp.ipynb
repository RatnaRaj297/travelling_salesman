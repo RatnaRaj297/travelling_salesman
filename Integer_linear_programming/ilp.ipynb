{
 "cells": [
  {
   "cell_type": "code",
   "execution_count": 1,
   "metadata": {
    "collapsed": true
   },
   "outputs": [],
   "source": [
    "import pulp\n",
    "import matplotlib.pyplot as plot\n",
    "import networkx as nx\n",
    "import math\n",
    "\n",
    "# This function takes as input a graph g.\n",
    "# The graph is complete (i.e., each pair of distinct vertices is connected by an edge),\n",
    "# undirected (i.e., the edge from u to v has the same weight as the edge from v to u),\n",
    "# and has no self-loops (i.e., there are no edges from i to i).\n",
    "#\n",
    "# This function finds an optimal Hamiltonian path using an Integer Linear Programing solver.\n",
    "\n",
    "def ilp(g):\n",
    "    # n is the number of vertices.\n",
    "    n = g.number_of_nodes()\n",
    "\n",
    "    # Define a new Integer Linear Program.\n",
    "    m = pulp.LpProblem('TSP', pulp.LpMinimize)\n",
    "\n",
    "    # Define variables x_i_j for 1 <= i,j <= n corresponding to the directed edges from i to j.\n",
    "    # Each variable is of the Binary type (i.e., it can take on either 0 or 1).\n",
    "    # An edge (i,j) will be taken in an optimal Hamiltonian cycle if and only if x_i_j == 1.\n",
    "    x = [[pulp.LpVariable('x_' + str(i) + '_' + str(j), cat='Binary')\n",
    "         for i in range(n)] for j in range(n)]\n",
    "\n",
    "    # Never take self-loops (an edge from i to i).\n",
    "    for i in range(n):\n",
    "        m += pulp.lpSum(x[i][i]) == 0\n",
    "\n",
    "    # Make sure the self-loops areof weight 0.\n",
    "    for i in range(n):\n",
    "      g.add_edge(i, i, weight = 0)\n",
    "    # The objective function (to be minimized) is the sum of the weights of taken edges\n",
    "    m += pulp.lpSum([g[i][j]['weight'] * x[i][j] for i in range(n) for j in range(n)])\n",
    "\n",
    "    # Add the constraints saying that each vertex has exactly one outgoing edge.\n",
    "    for i in range(n):\n",
    "        m += pulp.lpSum([x[i][j] for j in range(n)]) == 1\n",
    "\n",
    "    # Add the constraints saying that each vertex has exactly one incoming edge.\n",
    "    for i in range(n):\n",
    "        m += pulp.lpSum([x[j][i] for j in range(n)]) == 1\n",
    "\n",
    "    # Introduce auxiliary variables u_i for 0 <= i <= n-1.\n",
    "    u = []\n",
    "    # u_0 = 0\n",
    "    u.append(pulp.LpVariable('u_0', 1, 1, cat='Integer'))\n",
    "    # For i > 0, we have that 2 <= u_i <= n.\n",
    "    for i in range(1, n):\n",
    "        u.append(pulp.LpVariable('u_' + str(i), 2, n, cat='Integer'))\n",
    "\n",
    "    # In order to ensure that we find *one* cycle covering all vertices,\n",
    "    # for every i, j > 0, we add the constraint u_i - u_j + n * x_i_j <= n-1\n",
    "    for i in range(1, n):\n",
    "        for j in range(1, n):\n",
    "            m += pulp.lpSum([u[i] - u[j] + n * x[i][j]]) <= n - 1\n",
    "\n",
    "    # Solve the constructed Integer Linear Program.\n",
    "    m.solve()\n",
    "\n",
    "    # Compute the weight of the resulting cycle.\n",
    "    weight = sum([g[i][j]['weight'] * pulp.value(x[i][j]) for i in range(n) for j in range(n)])\n",
    "    print('The minimal cycle length is %f' % weight)\n",
    "    \n",
    "    # Extract cycle from the matrix x\n",
    "    cycleMatrix = [[pulp.value(x[i][j]) for i in range(n)] for j in range(n)]\n",
    "    i = 0\n",
    "    i = cycleMatrix[0].index(1)\n",
    "    cycle = [i]\n",
    "    while (i != 0):\n",
    "        i = cycleMatrix[i].index(1)\n",
    "        cycle.append(i)\n",
    "    return cycle"
   ]
  },
  {
   "cell_type": "code",
   "execution_count": 2,
   "metadata": {
    "collapsed": true
   },
   "outputs": [],
   "source": [
    "# This function computes the distance between two points.\n",
    "def dist(x1, y1, x2, y2):\n",
    "    return math.sqrt((x1 - x2) ** 2 + (y1 - y2) ** 2)\n",
    "\n",
    "# This function receives a list of 2-tuples representing the points' coordinates,\n",
    "# and returns the corresponding graph.\n",
    "def get_graph(coordinates):\n",
    "    g = nx.Graph()\n",
    "    n = len(coordinates)\n",
    "    for i in range(n):\n",
    "        for j in range(i + 1):\n",
    "            g.add_edge(i, j, weight=dist(coordinates[i][0], coordinates[i][1], coordinates[j][0], coordinates[j][1]))\n",
    "    return g\n",
    "\n",
    "# This function takes\n",
    "# 1. a list of 2-tuples which represent the coordinates of the given points\n",
    "# 2. and a cycle to be visualized.\n",
    "def plot_cycle(coordinates, cycle):\n",
    "    # Compute the x and y coordinates in the order according to the cycle\n",
    "    x_coordinates = [coordinates[i][0] for i in cycle]\n",
    "    y_coordinates = [coordinates[i][1] for i in cycle]\n",
    "\n",
    "    # Add the first vertex of the cycle (to close the cycle)\n",
    "    x_coordinates.append(coordinates[cycle[0]][0])\n",
    "    y_coordinates.append(coordinates[cycle[0]][1])\n",
    "\n",
    "    plot.plot(x_coordinates, y_coordinates, 'xb-', )\n",
    "    plot.show()"
   ]
  },
  {
   "cell_type": "code",
   "execution_count": 3,
   "metadata": {},
   "outputs": [
    {
     "name": "stdout",
     "output_type": "stream",
     "text": [
      "The minimal cycle length is 747.966255\n"
     ]
    },
    {
     "data": {
      "image/png": "[encoded data removed]",
      "text/plain": [
       "<matplotlib.figure.Figure at 0x7fe247b45dd8>"
      ]
     },
     "metadata": {},
     "output_type": "display_data"
    }
   ],
   "source": [
    "# Example 1\n",
    "# Consider the following 3 points.\n",
    "coordinates = [(166, 282), (43, 79), (285, 44)]\n",
    "# Create a corresponding graph.\n",
    "g = get_graph(coordinates)\n",
    "# Compute an optimal Hamiltonian path using Integer Linear Programming:\n",
    "cycle = ilp(g)\n",
    "# Plot the resulting cycle\n",
    "plot_cycle(coordinates, cycle)"
   ]
  },
  {
   "cell_type": "code",
   "execution_count": null,
   "metadata": {
    "collapsed": true
   },
   "outputs": [],
   "source": [
    "# Example 2\n",
    "# Consider the following 8 points.\n",
    "coordinates = [(162, 137), (122, 177), (249, 49), (37, 127), (13, 277), (164, 293), (270, 42), (135, 123)]\n",
    "# Create a corresponding graph.\n",
    "g = get_graph(coordinates)\n",
    "# Compute an optimal Hamiltonian path using Integer Linear Programming:\n",
    "cycle = ilp(g)\n",
    "# Plot the resulting cycle\n",
    "plot_cycle(coordinates, cycle)"
   ]
  },
  {
   "cell_type": "code",
   "execution_count": null,
   "metadata": {
    "collapsed": true
   },
   "outputs": [],
   "source": [
    "# Example 3\n",
    "# Consider the following 10 points.\n",
    "coordinates = [(88, 106), (248, 67), (251, 24), (124, 221), (136, 148), (262, 88), (179, 45), (60, 188), (272, 99), (30, 107)]\n",
    "# Create a corresponding graph.\n",
    "g = get_graph(coordinates)\n",
    "# Compute an optimal Hamiltonian path using Integer Linear Programming:\n",
    "cycle = ilp(g)\n",
    "# Plot the resulting cycle\n",
    "plot_cycle(coordinates, cycle)"
   ]
  },
  {
   "cell_type": "code",
   "execution_count": null,
   "metadata": {
    "collapsed": true
   },
   "outputs": [],
   "source": [
    "# Example 4\n",
    "# Consider the following 12 points.\n",
    "coordinates = [(0, 277), (234, 42), (269, 25), (12, 210), (298, 130), (10, 143), (270, 227), (87, 126), (34, 216), (93, 84), (40, 82), (27, 288)]\n",
    "# Create a corresponding graph.\n",
    "g = get_graph(coordinates)\n",
    "# Compute an optimal Hamiltonian path using Integer Linear Programming:\n",
    "cycle = ilp(g)\n",
    "# Plot the resulting cycle\n",
    "plot_cycle(coordinates, cycle)"
   ]
  },
  {
   "cell_type": "code",
   "execution_count": null,
   "metadata": {
    "collapsed": true
   },
   "outputs": [],
   "source": [
    "# Example 5\n",
    "# Consider the following 14 points.\n",
    "coordinates = [(111, 191), (197, 164), (219, 204), (206, 91), (255, 274), (265, 155), (76, 284), (292, 129), (191, 36), (37, 156), (21, 20), (198, 248), (221, 153), (92, 133)]\n",
    "# Create a corresponding graph.\n",
    "g = get_graph(coordinates)\n",
    "# Compute an optimal Hamiltonian path using Integer Linear Programming:\n",
    "cycle = ilp(g)\n",
    "# Plot the resulting cycle\n",
    "plot_cycle(coordinates, cycle)"
   ]
  },
  {
   "cell_type": "code",
   "execution_count": null,
   "metadata": {
    "collapsed": true
   },
   "outputs": [],
   "source": [
    "# Example 6\n",
    "# Consider the following 17 points.\n",
    "coordinates = [(5, 171), (109, 173), (4, 255), (208, 158), (269, 11), (280, 273), (32, 0), (188, 59), (180, 208), (140, 106), (131, 276), (65, 233), (274, 62), (120, 182), (300, 234), (41, 102), (140, 226)]\n",
    "# Create a corresponding graph.\n",
    "g = get_graph(coordinates)\n",
    "# Compute an optimal Hamiltonian path using Integer Linear Programming:\n",
    "cycle = ilp(g)\n",
    "# Plot the resulting cycle\n",
    "plot_cycle(coordinates, cycle)"
   ]
  }
 ],
 "metadata": {
  "kernelspec": {
   "display_name": "Python 3",
   "language": "python",
   "name": "python3"
  },
  "language_info": {
   "codemirror_mode": {
    "name": "ipython",
    "version": 3
   },
   "file_extension": ".py",
   "mimetype": "text/x-python",
   "name": "python",
   "nbconvert_exporter": "python",
   "pygments_lexer": "ipython3",
   "version": "3.6.2"
  }
 },
 "nbformat": 4,
 "nbformat_minor": 2
}
